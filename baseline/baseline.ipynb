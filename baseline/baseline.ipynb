{
 "cells": [
  {
   "cell_type": "code",
   "execution_count": 1,
   "metadata": {
    "pycharm": {
     "name": "#%%\n"
    }
   },
   "outputs": [],
   "source": [
    "import os\n",
    "import pandas as pd\n",
    "import numpy as np\n",
    "from sklearn import preprocessing\n",
    "import seaborn as sns\n",
    "sns.set(color_codes=True)\n",
    "import matplotlib.pyplot as plt\n",
    "%matplotlib inline\n",
    "from numpy.random import seed\n",
    "# from tensorflow import set_random_seed\n",
    "from tensorflow.keras import optimizers\n",
    "from keras import Sequential\n",
    "from keras.models import Model\n",
    "# from keras.utils import plot_model\n",
    "from keras.layers import Dense, LSTM, RepeatVector, TimeDistributed\n",
    "from keras.callbacks import ModelCheckpoint, TensorBoard\n",
    "from sklearn.metrics import confusion_matrix, precision_recall_curve\n",
    "from sklearn.metrics import recall_score, classification_report, auc, roc_curve\n",
    "from sklearn.metrics import precision_recall_fscore_support, f1_score"
   ]
  },
  {
   "cell_type": "code",
   "execution_count": 2,
   "metadata": {
    "pycharm": {
     "name": "#%%\n"
    }
   },
   "outputs": [],
   "source": [
    "# first = 'data/1st_test'\n",
    "# second = 'data/2nd_test'\n",
    "# third = 'data/4th_test/txt'"
   ]
  },
  {
   "cell_type": "markdown",
   "source": [
    "# SET HYPERPARAMETERS AND EXTERNAL VALUES"
   ],
   "metadata": {
    "collapsed": false,
    "pycharm": {
     "name": "#%% md\n"
    }
   }
  },
  {
   "cell_type": "code",
   "execution_count": 3,
   "outputs": [],
   "source": [
    "DATASET_PATH = 'data/2nd_test'\n",
    "MODEL_PATH = 'bearing/experiment-2/bearing-1'\n",
    "DATASET_COLUMN = 0\n",
    "TRAIN_SPLIT = 0.8\n",
    "VAL_SPLIT = 0.1\n",
    "\n",
    "EPOCHS = 100\n",
    "BATCH_SIZE = 64\n",
    "LEARNING_RATE = 0.001\n"
   ],
   "metadata": {
    "collapsed": false,
    "pycharm": {
     "name": "#%%\n"
    }
   }
  },
  {
   "cell_type": "code",
   "execution_count": 4,
   "metadata": {
    "pycharm": {
     "name": "#%%\n"
    }
   },
   "outputs": [],
   "source": [
    "def readData(dataDir, setName,set1=False):\n",
    "    files = os.listdir(dataDir)\n",
    "    print(\"Number of files:\",len(files))\n",
    "    \n",
    "    bearing1= list()\n",
    "    bearing2= list()\n",
    "    bearing3= list()\n",
    "    bearing4= list()\n",
    "\n",
    "    bearing_list = {setName+\"_bearing-1\" : bearing1,setName+\"_bearing-2\" : bearing2,setName+\"_bearing-3\" : bearing3,setName+\"_bearing-4\" : bearing4}\n",
    "    \n",
    "    cols=['bearing-1','bearing-2','bearing-3','bearing-4']\n",
    "    \n",
    "    for filename in files:\n",
    "\n",
    "        dataset=pd.read_csv(os.path.join(dataDir, filename), sep='\\t', header=None, names=cols)\n",
    "\n",
    "        avg_df = dataset.groupby(dataset.index // 5).mean()\n",
    "        \n",
    "        for bearing in cols:\n",
    "            dict_key = setName+\"_\"+bearing\n",
    "            if dict_key in bearing_list:\n",
    "                b = pd.DataFrame(avg_df[bearing]).T\n",
    "                bearing_list[setName+\"_\"+bearing].append(b)\n",
    "    \n",
    "    return bearing_list"
   ]
  },
  {
   "cell_type": "code",
   "execution_count": 5,
   "metadata": {
    "pycharm": {
     "name": "#%%\n"
    }
   },
   "outputs": [
    {
     "name": "stdout",
     "output_type": "stream",
     "text": [
      "Number of files: 984\n",
      "S2_bearing-1 984\n",
      "S2_bearing-2 984\n",
      "S2_bearing-3 984\n",
      "S2_bearing-4 984\n"
     ]
    }
   ],
   "source": [
    "data = readData(DATASET_PATH, \"S2\")\n",
    "for bearing in data:  # edited error\n",
    "    print(bearing,len(data[bearing]))"
   ]
  },
  {
   "cell_type": "markdown",
   "source": [
    "# split data into training and test"
   ],
   "metadata": {
    "collapsed": false,
    "pycharm": {
     "name": "#%% md\n"
    }
   }
  },
  {
   "cell_type": "code",
   "execution_count": 6,
   "metadata": {
    "pycharm": {
     "name": "#%%\n"
    }
   },
   "outputs": [
    {
     "name": "stdout",
     "output_type": "stream",
     "text": [
      "787\n",
      "(787, 4096) (197, 4096)\n"
     ]
    }
   ],
   "source": [
    "bearing1 = pd.concat(data[f\"S2_bearing-{DATASET_COLUMN + 1}\"])\n",
    "split_len = int(len(bearing1) * TRAIN_SPLIT)\n",
    "print(split_len)\n",
    "train = bearing1.iloc[0:split_len]\n",
    "test = bearing1.iloc[split_len:]\n",
    "train.reset_index(drop= True, inplace=True)\n",
    "test.reset_index(drop= True, inplace=True)\n",
    "print(train.shape, test.shape)"
   ]
  },
  {
   "cell_type": "code",
   "execution_count": 7,
   "metadata": {
    "pycharm": {
     "name": "#%%\n"
    }
   },
   "outputs": [
    {
     "name": "stdout",
     "output_type": "stream",
     "text": [
      "(787, 4096) (197, 4096)\n"
     ]
    }
   ],
   "source": [
    "# Standardarize train and test set\n",
    "scaler = preprocessing.StandardScaler()\n",
    "train_scaled = pd.DataFrame(scaler.fit_transform(train))\n",
    "test_scaled = pd.DataFrame(scaler.transform(test))\n",
    "print(train_scaled.shape, test_scaled.shape)"
   ]
  },
  {
   "cell_type": "markdown",
   "source": [
    "# prepare data for LSTM"
   ],
   "metadata": {
    "collapsed": false,
    "pycharm": {
     "name": "#%% md\n"
    }
   }
  },
  {
   "cell_type": "code",
   "execution_count": 8,
   "metadata": {
    "pycharm": {
     "name": "#%%\n"
    }
   },
   "outputs": [],
   "source": [
    "def temporalize(X, lookback):\n",
    "    output_X = []\n",
    "    for i in range(len(X)-lookback-1):\n",
    "        t = []\n",
    "        for j in range(1,lookback+1):\n",
    "            # Gather past records upto the lookback period\n",
    "            t.append(X[[(i+j+1)], :])\n",
    "        output_X.append(t)\n",
    "    return output_X\n",
    "\n",
    "\n",
    "def flatten(X):\n",
    "    '''\n",
    "    Flatten a 3D array.\n",
    "    \n",
    "    Input\n",
    "    X            A 3D array for lstm, where the array is sample x timesteps x features.\n",
    "    \n",
    "    Output\n",
    "    flattened_X  A 2D array, sample x features.\n",
    "    '''\n",
    "    flattened_X = np.empty((X.shape[0], X.shape[2]))  # sample x features array.\n",
    "    for i in range(X.shape[0]):\n",
    "        flattened_X[i] = X[i, (X.shape[1]-1), :]\n",
    "    return(flattened_X)\n",
    "\n",
    "def scale(X, scaler):\n",
    "    '''\n",
    "    Scale 3D array.\n",
    "\n",
    "    Inputs\n",
    "    X            A 3D array for lstm, where the array is sample x timesteps x features.\n",
    "    scaler       A scaler object, e.g., sklearn.preprocessing.StandardScaler, sklearn.preprocessing.normalize\n",
    "    \n",
    "    Output\n",
    "    X            Scaled 3D array.\n",
    "    '''\n",
    "    for i in range(X.shape[0]):\n",
    "        X[i, :, :] = scaler.transform(X[i, :, :])\n",
    "        \n",
    "    return X"
   ]
  },
  {
   "cell_type": "code",
   "execution_count": 9,
   "metadata": {
    "pycharm": {
     "name": "#%%\n"
    }
   },
   "outputs": [],
   "source": [
    "n_features = train_scaled.shape[1] \n",
    "lookback = 20  \n",
    "\n",
    "# Temporalize the data\n",
    "X = temporalize(X = train_scaled.values, lookback = lookback)\n",
    "X_t = temporalize(X = test_scaled.values, lookback = lookback)"
   ]
  },
  {
   "cell_type": "code",
   "execution_count": 10,
   "metadata": {
    "pycharm": {
     "name": "#%%\n"
    }
   },
   "outputs": [
    {
     "name": "stdout",
     "output_type": "stream",
     "text": [
      "(766, 20, 4096) (176, 20, 4096)\n"
     ]
    }
   ],
   "source": [
    "X_train_lstm = np.array(X)\n",
    "X_test_lstm = np.array(X_t)\n",
    "X_train = X_train_lstm.reshape(X_train_lstm.shape[0], lookback, n_features)\n",
    "X_test = X_test_lstm.reshape(X_test_lstm.shape[0], lookback, n_features)\n",
    "print(X_train.shape, X_test.shape)"
   ]
  },
  {
   "cell_type": "markdown",
   "source": [
    "# LSTM AE Anomaly Detector"
   ],
   "metadata": {
    "collapsed": false,
    "pycharm": {
     "name": "#%% md\n"
    }
   }
  },
  {
   "cell_type": "code",
   "execution_count": 11,
   "metadata": {
    "pycharm": {
     "name": "#%%\n"
    }
   },
   "outputs": [],
   "source": [
    "timesteps =  X_train.shape[1] # equal to the lookback=20\n",
    "n_features =  X_train.shape[2] # 4096"
   ]
  },
  {
   "cell_type": "code",
   "execution_count": 12,
   "metadata": {
    "pycharm": {
     "name": "#%%\n"
    }
   },
   "outputs": [
    {
     "name": "stdout",
     "output_type": "stream",
     "text": [
      "WARNING:tensorflow:Layer lstm will not use cuDNN kernels since it doesn't meet the criteria. It will use a generic GPU kernel as fallback when running on GPU.\n",
      "WARNING:tensorflow:Layer lstm_1 will not use cuDNN kernels since it doesn't meet the criteria. It will use a generic GPU kernel as fallback when running on GPU.\n",
      "WARNING:tensorflow:Layer lstm_2 will not use cuDNN kernels since it doesn't meet the criteria. It will use a generic GPU kernel as fallback when running on GPU.\n",
      "Model: \"sequential\"\n",
      "_________________________________________________________________\n",
      " Layer (type)                Output Shape              Param #   \n",
      "=================================================================\n",
      " lstm (LSTM)                 (None, 20, 600)           11272800  \n",
      "                                                                 \n",
      " lstm_1 (LSTM)               (None, 250)               851000    \n",
      "                                                                 \n",
      " repeat_vector (RepeatVector  (None, 20, 250)          0         \n",
      " )                                                               \n",
      "                                                                 \n",
      " lstm_2 (LSTM)               (None, 20, 250)           501000    \n",
      "                                                                 \n",
      " lstm_3 (LSTM)               (None, 20, 600)           2042400   \n",
      "                                                                 \n",
      " time_distributed (TimeDistr  (None, 20, 4096)         2461696   \n",
      " ibuted)                                                         \n",
      "                                                                 \n",
      "=================================================================\n",
      "Total params: 17,128,896\n",
      "Trainable params: 17,128,896\n",
      "Non-trainable params: 0\n",
      "_________________________________________________________________\n"
     ]
    }
   ],
   "source": [
    "lstm_autoencoder = Sequential()\n",
    "# Encoder\n",
    "lstm_autoencoder.add(LSTM(600, activation='relu', input_shape=(timesteps, n_features), return_sequences=True))\n",
    "lstm_autoencoder.add(LSTM(250, activation='relu', return_sequences=False))\n",
    "lstm_autoencoder.add(RepeatVector(timesteps))\n",
    "# Decoder\n",
    "lstm_autoencoder.add(LSTM(250, activation='relu', return_sequences=True))\n",
    "lstm_autoencoder.add(LSTM(600, activation='tanh', return_sequences=True))\n",
    "lstm_autoencoder.add(TimeDistributed(Dense(n_features)))\n",
    "\n",
    "lstm_autoencoder.summary()"
   ]
  },
  {
   "cell_type": "code",
   "execution_count": 13,
   "metadata": {
    "pycharm": {
     "name": "#%%\n"
    }
   },
   "outputs": [
    {
     "name": "stdout",
     "output_type": "stream",
     "text": [
      "Epoch 1/100\n",
      "11/11 - 5s - loss: 0.9529 - val_loss: 1.3647 - 5s/epoch - 478ms/step\n",
      "Epoch 2/100\n",
      "11/11 - 1s - loss: 0.9432 - val_loss: 1.3626 - 1s/epoch - 122ms/step\n",
      "Epoch 3/100\n",
      "11/11 - 1s - loss: 0.9390 - val_loss: 1.3542 - 1s/epoch - 115ms/step\n",
      "Epoch 4/100\n",
      "11/11 - 1s - loss: 0.9349 - val_loss: 1.3537 - 1s/epoch - 120ms/step\n",
      "Epoch 5/100\n",
      "11/11 - 1s - loss: 0.9290 - val_loss: 1.3545 - 1s/epoch - 120ms/step\n",
      "Epoch 6/100\n",
      "11/11 - 1s - loss: 0.9225 - val_loss: 1.3544 - 1s/epoch - 117ms/step\n",
      "Epoch 7/100\n",
      "11/11 - 1s - loss: 0.9177 - val_loss: 1.3601 - 1s/epoch - 123ms/step\n",
      "Epoch 8/100\n",
      "11/11 - 1s - loss: 0.9108 - val_loss: 1.3611 - 1s/epoch - 130ms/step\n",
      "Epoch 9/100\n",
      "11/11 - 1s - loss: 0.9070 - val_loss: 1.3597 - 1s/epoch - 113ms/step\n",
      "Epoch 10/100\n",
      "11/11 - 1s - loss: 0.9040 - val_loss: 1.3591 - 1s/epoch - 115ms/step\n",
      "Epoch 11/100\n",
      "11/11 - 1s - loss: 0.9001 - val_loss: 1.3679 - 1s/epoch - 121ms/step\n",
      "Epoch 12/100\n",
      "11/11 - 1s - loss: 0.8995 - val_loss: 1.3595 - 1s/epoch - 116ms/step\n",
      "Epoch 13/100\n",
      "11/11 - 1s - loss: 0.9026 - val_loss: 1.3647 - 1s/epoch - 117ms/step\n",
      "Epoch 14/100\n",
      "11/11 - 1s - loss: 0.9073 - val_loss: 1.3713 - 1s/epoch - 132ms/step\n",
      "Epoch 15/100\n",
      "11/11 - 1s - loss: 0.9134 - val_loss: 1.3695 - 1s/epoch - 104ms/step\n",
      "Epoch 16/100\n",
      "11/11 - 1s - loss: 0.9175 - val_loss: 1.3714 - 1s/epoch - 121ms/step\n",
      "Epoch 17/100\n",
      "11/11 - 1s - loss: 0.9034 - val_loss: 1.3809 - 1s/epoch - 124ms/step\n",
      "Epoch 18/100\n",
      "11/11 - 1s - loss: 0.8923 - val_loss: 1.3821 - 1s/epoch - 125ms/step\n",
      "Epoch 19/100\n",
      "11/11 - 1s - loss: 0.8816 - val_loss: 1.3815 - 1s/epoch - 123ms/step\n",
      "Epoch 20/100\n",
      "11/11 - 1s - loss: 0.8749 - val_loss: 1.3867 - 1s/epoch - 116ms/step\n",
      "Epoch 21/100\n",
      "11/11 - 1s - loss: 0.8619 - val_loss: 1.3887 - 1s/epoch - 115ms/step\n",
      "Epoch 22/100\n",
      "11/11 - 1s - loss: 0.8640 - val_loss: 1.3980 - 1s/epoch - 120ms/step\n",
      "Epoch 23/100\n",
      "11/11 - 1s - loss: 0.8629 - val_loss: 1.3934 - 1s/epoch - 117ms/step\n",
      "Epoch 24/100\n",
      "11/11 - 1s - loss: 0.8536 - val_loss: 1.3941 - 1s/epoch - 109ms/step\n",
      "Epoch 25/100\n",
      "11/11 - 1s - loss: 0.8549 - val_loss: 1.3931 - 1s/epoch - 121ms/step\n",
      "Epoch 26/100\n",
      "11/11 - 1s - loss: 0.8461 - val_loss: 1.3987 - 1s/epoch - 116ms/step\n",
      "Epoch 27/100\n",
      "11/11 - 1s - loss: 0.8427 - val_loss: 1.4090 - 1s/epoch - 122ms/step\n",
      "Epoch 28/100\n",
      "11/11 - 1s - loss: 0.8508 - val_loss: 1.4115 - 1s/epoch - 115ms/step\n",
      "Epoch 29/100\n",
      "11/11 - 1s - loss: 0.8589 - val_loss: 1.4036 - 1s/epoch - 117ms/step\n",
      "Epoch 30/100\n",
      "11/11 - 1s - loss: 0.8912 - val_loss: 1.3858 - 1s/epoch - 119ms/step\n",
      "Epoch 31/100\n",
      "11/11 - 1s - loss: 0.9186 - val_loss: 1.3805 - 1s/epoch - 127ms/step\n",
      "Epoch 32/100\n",
      "11/11 - 1s - loss: 0.9284 - val_loss: 1.3645 - 1s/epoch - 110ms/step\n",
      "Epoch 33/100\n",
      "11/11 - 1s - loss: 0.9486 - val_loss: 1.3797 - 1s/epoch - 120ms/step\n",
      "Epoch 34/100\n",
      "11/11 - 1s - loss: 0.9606 - val_loss: 1.3781 - 1s/epoch - 113ms/step\n",
      "Epoch 35/100\n",
      "11/11 - 1s - loss: 0.9561 - val_loss: 1.3759 - 1s/epoch - 121ms/step\n",
      "Epoch 36/100\n",
      "11/11 - 1s - loss: 0.9631 - val_loss: 1.3880 - 1s/epoch - 121ms/step\n",
      "Epoch 37/100\n",
      "11/11 - 1s - loss: 0.9622 - val_loss: 1.3739 - 1s/epoch - 123ms/step\n",
      "Epoch 38/100\n",
      "11/11 - 1s - loss: 0.9588 - val_loss: 1.3787 - 1s/epoch - 119ms/step\n",
      "Epoch 39/100\n",
      "11/11 - 1s - loss: 0.9571 - val_loss: 1.3778 - 1s/epoch - 120ms/step\n",
      "Epoch 40/100\n",
      "11/11 - 1s - loss: 0.9562 - val_loss: 1.3727 - 1s/epoch - 122ms/step\n",
      "Epoch 41/100\n",
      "11/11 - 1s - loss: 0.9560 - val_loss: 1.3745 - 1s/epoch - 125ms/step\n",
      "Epoch 42/100\n",
      "11/11 - 1s - loss: 0.9554 - val_loss: 1.3751 - 1s/epoch - 113ms/step\n",
      "Epoch 43/100\n",
      "11/11 - 1s - loss: 0.9551 - val_loss: 1.3749 - 1s/epoch - 117ms/step\n",
      "Epoch 44/100\n",
      "11/11 - 1s - loss: 0.9548 - val_loss: 1.3780 - 1s/epoch - 119ms/step\n",
      "Epoch 45/100\n",
      "11/11 - 1s - loss: 0.9555 - val_loss: 1.3733 - 1s/epoch - 119ms/step\n",
      "Epoch 46/100\n",
      "11/11 - 1s - loss: 0.9549 - val_loss: 1.3746 - 1s/epoch - 121ms/step\n",
      "Epoch 47/100\n",
      "11/11 - 1s - loss: 0.9545 - val_loss: 1.3735 - 1s/epoch - 118ms/step\n",
      "Epoch 48/100\n",
      "11/11 - 1s - loss: 0.9545 - val_loss: 1.3717 - 1s/epoch - 122ms/step\n",
      "Epoch 49/100\n",
      "11/11 - 1s - loss: 0.9540 - val_loss: 1.3791 - 1s/epoch - 115ms/step\n",
      "Epoch 50/100\n",
      "11/11 - 1s - loss: 0.9541 - val_loss: 1.3763 - 1s/epoch - 103ms/step\n",
      "Epoch 51/100\n",
      "11/11 - 1s - loss: 0.9537 - val_loss: 1.3710 - 1s/epoch - 120ms/step\n",
      "Epoch 52/100\n",
      "11/11 - 1s - loss: 0.9547 - val_loss: 1.3750 - 1s/epoch - 118ms/step\n",
      "Epoch 53/100\n",
      "11/11 - 1s - loss: 0.9542 - val_loss: 1.3716 - 1s/epoch - 119ms/step\n",
      "Epoch 54/100\n",
      "11/11 - 1s - loss: 0.9546 - val_loss: 1.3746 - 1s/epoch - 129ms/step\n",
      "Epoch 55/100\n",
      "11/11 - 1s - loss: 0.9542 - val_loss: 1.3808 - 1s/epoch - 111ms/step\n",
      "Epoch 56/100\n",
      "11/11 - 1s - loss: 0.9551 - val_loss: 1.3724 - 1s/epoch - 131ms/step\n",
      "Epoch 57/100\n",
      "11/11 - 1s - loss: 0.9549 - val_loss: 1.3745 - 1s/epoch - 118ms/step\n",
      "Epoch 58/100\n",
      "11/11 - 1s - loss: 0.9545 - val_loss: 1.3767 - 1s/epoch - 115ms/step\n",
      "Epoch 59/100\n",
      "11/11 - 1s - loss: 0.9548 - val_loss: 1.3792 - 1s/epoch - 121ms/step\n",
      "Epoch 60/100\n",
      "11/11 - 1s - loss: 0.9546 - val_loss: 1.3742 - 1s/epoch - 121ms/step\n",
      "Epoch 61/100\n",
      "11/11 - 1s - loss: 0.9544 - val_loss: 1.3723 - 1s/epoch - 122ms/step\n",
      "Epoch 62/100\n",
      "11/11 - 1s - loss: 0.9548 - val_loss: 1.3775 - 1s/epoch - 121ms/step\n",
      "Epoch 63/100\n",
      "11/11 - 1s - loss: 0.9548 - val_loss: 1.3789 - 1s/epoch - 117ms/step\n",
      "Epoch 64/100\n",
      "11/11 - 1s - loss: 0.9548 - val_loss: 1.3738 - 1s/epoch - 122ms/step\n",
      "Epoch 65/100\n",
      "11/11 - 1s - loss: 0.9545 - val_loss: 1.3774 - 1s/epoch - 121ms/step\n",
      "Epoch 66/100\n",
      "11/11 - 1s - loss: 0.9541 - val_loss: 1.3707 - 1s/epoch - 119ms/step\n",
      "Epoch 67/100\n",
      "11/11 - 1s - loss: 0.9539 - val_loss: 1.3756 - 1s/epoch - 120ms/step\n",
      "Epoch 68/100\n",
      "11/11 - 1s - loss: 0.9542 - val_loss: 1.3744 - 1s/epoch - 126ms/step\n",
      "Epoch 69/100\n",
      "11/11 - 1s - loss: 0.9544 - val_loss: 1.3753 - 1s/epoch - 121ms/step\n",
      "Epoch 70/100\n",
      "11/11 - 1s - loss: 0.9546 - val_loss: 1.3759 - 1s/epoch - 126ms/step\n",
      "Epoch 71/100\n",
      "11/11 - 1s - loss: 0.9548 - val_loss: 1.3721 - 1s/epoch - 115ms/step\n",
      "Epoch 72/100\n",
      "11/11 - 1s - loss: 0.9541 - val_loss: 1.3750 - 1s/epoch - 123ms/step\n",
      "Epoch 73/100\n",
      "11/11 - 1s - loss: 0.9541 - val_loss: 1.3730 - 1s/epoch - 126ms/step\n",
      "Epoch 74/100\n",
      "11/11 - 1s - loss: 0.9541 - val_loss: 1.3753 - 1s/epoch - 110ms/step\n",
      "Epoch 75/100\n",
      "11/11 - 1s - loss: 0.9540 - val_loss: 1.3756 - 1s/epoch - 118ms/step\n",
      "Epoch 76/100\n",
      "11/11 - 1s - loss: 0.9539 - val_loss: 1.3739 - 1s/epoch - 113ms/step\n",
      "Epoch 77/100\n",
      "11/11 - 1s - loss: 0.9539 - val_loss: 1.3767 - 1s/epoch - 127ms/step\n",
      "Epoch 78/100\n",
      "11/11 - 1s - loss: 0.9540 - val_loss: 1.3729 - 1s/epoch - 126ms/step\n",
      "Epoch 79/100\n",
      "11/11 - 1s - loss: 0.9540 - val_loss: 1.3720 - 1s/epoch - 127ms/step\n",
      "Epoch 80/100\n",
      "11/11 - 1s - loss: 0.9542 - val_loss: 1.3744 - 1s/epoch - 122ms/step\n",
      "Epoch 81/100\n",
      "11/11 - 1s - loss: 0.9539 - val_loss: 1.3747 - 1s/epoch - 126ms/step\n",
      "Epoch 82/100\n",
      "11/11 - 1s - loss: 0.9538 - val_loss: 1.3738 - 1s/epoch - 123ms/step\n",
      "Epoch 83/100\n",
      "11/11 - 1s - loss: 0.9538 - val_loss: 1.3745 - 1s/epoch - 120ms/step\n",
      "Epoch 84/100\n",
      "11/11 - 1s - loss: 0.9539 - val_loss: 1.3765 - 1s/epoch - 125ms/step\n",
      "Epoch 85/100\n",
      "11/11 - 1s - loss: 0.9539 - val_loss: 1.3711 - 1s/epoch - 129ms/step\n",
      "Epoch 86/100\n",
      "11/11 - 1s - loss: 0.9540 - val_loss: 1.3705 - 1s/epoch - 117ms/step\n",
      "Epoch 87/100\n",
      "11/11 - 1s - loss: 0.9543 - val_loss: 1.3748 - 1s/epoch - 126ms/step\n",
      "Epoch 88/100\n",
      "11/11 - 1s - loss: 0.9544 - val_loss: 1.3797 - 1s/epoch - 121ms/step\n",
      "Epoch 89/100\n",
      "11/11 - 1s - loss: 0.9540 - val_loss: 1.3736 - 1s/epoch - 115ms/step\n",
      "Epoch 90/100\n",
      "11/11 - 1s - loss: 0.9538 - val_loss: 1.3726 - 1s/epoch - 112ms/step\n",
      "Epoch 91/100\n",
      "11/11 - 1s - loss: 0.9537 - val_loss: 1.3740 - 1s/epoch - 100ms/step\n",
      "Epoch 92/100\n",
      "11/11 - 1s - loss: 0.9535 - val_loss: 1.3717 - 1s/epoch - 116ms/step\n",
      "Epoch 93/100\n",
      "11/11 - 1s - loss: 0.9536 - val_loss: 1.3708 - 1s/epoch - 117ms/step\n",
      "Epoch 94/100\n",
      "11/11 - 1s - loss: 0.9538 - val_loss: 1.3730 - 1s/epoch - 121ms/step\n",
      "Epoch 95/100\n",
      "11/11 - 1s - loss: 0.9536 - val_loss: 1.3754 - 1s/epoch - 117ms/step\n",
      "Epoch 96/100\n",
      "11/11 - 1s - loss: 0.9537 - val_loss: 1.3749 - 1s/epoch - 119ms/step\n",
      "Epoch 97/100\n",
      "11/11 - 1s - loss: 0.9536 - val_loss: 1.3733 - 1s/epoch - 117ms/step\n",
      "Epoch 98/100\n",
      "11/11 - 1s - loss: 0.9536 - val_loss: 1.3730 - 1s/epoch - 115ms/step\n",
      "Epoch 99/100\n",
      "11/11 - 1s - loss: 0.9536 - val_loss: 1.3793 - 1s/epoch - 120ms/step\n",
      "Epoch 100/100\n",
      "11/11 - 1s - loss: 0.9538 - val_loss: 1.3696 - 1s/epoch - 116ms/step\n"
     ]
    }
   ],
   "source": [
    "adam = optimizers.Adam(LEARNING_RATE)\n",
    "lstm_autoencoder.compile(loss='mse', optimizer=adam)\n",
    "\n",
    "cp = ModelCheckpoint(filepath=\"lstm_autoencoder_classifier.h5\",\n",
    "                               save_best_only=True,\n",
    "                               verbose=0)\n",
    "\n",
    "tb = TensorBoard(log_dir='./logs',\n",
    "                histogram_freq=0,\n",
    "                write_graph=True,\n",
    "                write_images=True)\n",
    "\n",
    "lstm_autoencoder_history = lstm_autoencoder.fit(X_train, X_train, \n",
    "                                                epochs=EPOCHS,\n",
    "                                                batch_size=BATCH_SIZE,\n",
    "                                                validation_split=VAL_SPLIT,\n",
    "                                                verbose=2).history"
   ]
  },
  {
   "cell_type": "code",
   "execution_count": 14,
   "metadata": {
    "pycharm": {
     "name": "#%%\n"
    }
   },
   "outputs": [
    {
     "data": {
      "text/plain": "<Figure size 432x288 with 1 Axes>",
      "image/png": "[encoded data removed]"
     },
     "metadata": {
      "needs_background": "light"
     },
     "output_type": "display_data"
    }
   ],
   "source": [
    "plt.plot(lstm_autoencoder_history['loss'], linewidth=2, label='Train')\n",
    "plt.plot(lstm_autoencoder_history['val_loss'], linewidth=2, label='Valid')\n",
    "plt.legend(loc='upper right')\n",
    "plt.title('Model loss')\n",
    "plt.ylabel('Loss')\n",
    "plt.xlabel('Epoch')\n",
    "plt.show()"
   ]
  },
  {
   "cell_type": "code",
   "execution_count": 15,
   "metadata": {
    "pycharm": {
     "name": "#%%\n"
    }
   },
   "outputs": [
    {
     "name": "stdout",
     "output_type": "stream",
     "text": [
      "24/24 [==============================] - 1s 17ms/step\n"
     ]
    }
   ],
   "source": [
    "X_pred_train = lstm_autoencoder.predict(np.array(X_train))\n",
    "X_pred_train = pd.DataFrame(flatten(X_pred_train))"
   ]
  },
  {
   "cell_type": "code",
   "execution_count": 16,
   "metadata": {
    "pycharm": {
     "name": "#%%\n"
    }
   },
   "outputs": [
    {
     "name": "stderr",
     "output_type": "stream",
     "text": [
      "C:\\DRIVE\\SOFTWARE\\_Archiv\\_global-venv-pc1\\lib\\site-packages\\seaborn\\distributions.py:2619: FutureWarning: `distplot` is a deprecated function and will be removed in a future version. Please adapt your code to use either `displot` (a figure-level function with similar flexibility) or `histplot` (an axes-level function for histograms).\n",
      "  warnings.warn(msg, FutureWarning)\n"
     ]
    },
    {
     "data": {
      "text/plain": "Text(0.5, 1.0, 'Training Reconstruction Error')"
     },
     "execution_count": 16,
     "metadata": {},
     "output_type": "execute_result"
    },
    {
     "data": {
      "text/plain": "<Figure size 432x288 with 1 Axes>",
      "image/png": "[encoded data removed]"
     },
     "metadata": {
      "needs_background": "light"
     },
     "output_type": "display_data"
    }
   ],
   "source": [
    "scored = pd.DataFrame(index=X_pred_train.index)\n",
    "scored['RE'] = np.mean(np.abs(X_pred_train - flatten(X_train)), axis = 1)\n",
    "plt.figure()\n",
    "sns.distplot(scored['RE'],\n",
    "             bins = 15, \n",
    "             kde= True,\n",
    "            color = 'blue')\n",
    "plt.title(\"Training Reconstruction Error\")\n",
    "# plt.savefig(\"plots/RE_medium\")"
   ]
  },
  {
   "cell_type": "code",
   "execution_count": 17,
   "metadata": {
    "pycharm": {
     "name": "#%%\n"
    }
   },
   "outputs": [
    {
     "data": {
      "text/plain": "               RE\ncount  766.000000\nmean     0.806271\nstd      0.051330\nmin      0.743552\n25%      0.776498\n50%      0.790847\n75%      0.807810\nmax      0.985347",
      "text/html": "<div>\n<style scoped>\n    .dataframe tbody tr th:only-of-type {\n        vertical-align: middle;\n    }\n\n    .dataframe tbody tr th {\n        vertical-align: top;\n    }\n\n    .dataframe thead th {\n        text-align: right;\n    }\n</style>\n<table border=\"1\" class=\"dataframe\">\n  <thead>\n    <tr style=\"text-align: right;\">\n      <th></th>\n      <th>RE</th>\n    </tr>\n  </thead>\n  <tbody>\n    <tr>\n      <th>count</th>\n      <td>766.000000</td>\n    </tr>\n    <tr>\n      <th>mean</th>\n      <td>0.806271</td>\n    </tr>\n    <tr>\n      <th>std</th>\n      <td>0.051330</td>\n    </tr>\n    <tr>\n      <th>min</th>\n      <td>0.743552</td>\n    </tr>\n    <tr>\n      <th>25%</th>\n      <td>0.776498</td>\n    </tr>\n    <tr>\n      <th>50%</th>\n      <td>0.790847</td>\n    </tr>\n    <tr>\n      <th>75%</th>\n      <td>0.807810</td>\n    </tr>\n    <tr>\n      <th>max</th>\n      <td>0.985347</td>\n    </tr>\n  </tbody>\n</table>\n</div>"
     },
     "execution_count": 17,
     "metadata": {},
     "output_type": "execute_result"
    }
   ],
   "source": [
    "scored.describe()"
   ]
  },
  {
   "cell_type": "code",
   "execution_count": 18,
   "metadata": {
    "pycharm": {
     "name": "#%%\n"
    }
   },
   "outputs": [
    {
     "name": "stdout",
     "output_type": "stream",
     "text": [
      "6/6 [==============================] - 0s 18ms/step\n"
     ]
    }
   ],
   "source": [
    "X_pred_test = lstm_autoencoder.predict(np.array(X_test))\n",
    "X_pred_test = pd.DataFrame(flatten(X_pred_test))"
   ]
  },
  {
   "cell_type": "code",
   "execution_count": 19,
   "metadata": {
    "pycharm": {
     "name": "#%%\n"
    }
   },
   "outputs": [
    {
     "name": "stderr",
     "output_type": "stream",
     "text": [
      "C:\\DRIVE\\SOFTWARE\\_Archiv\\_global-venv-pc1\\lib\\site-packages\\seaborn\\distributions.py:2619: FutureWarning: `distplot` is a deprecated function and will be removed in a future version. Please adapt your code to use either `displot` (a figure-level function with similar flexibility) or `histplot` (an axes-level function for histograms).\n",
      "  warnings.warn(msg, FutureWarning)\n"
     ]
    },
    {
     "data": {
      "text/plain": "Text(0.5, 1.0, 'Reconstruction loss Bearing 1 (Test set)')"
     },
     "execution_count": 19,
     "metadata": {},
     "output_type": "execute_result"
    },
    {
     "data": {
      "text/plain": "<Figure size 432x288 with 1 Axes>",
      "image/png": "[encoded data removed]"
     },
     "metadata": {
      "needs_background": "light"
     },
     "output_type": "display_data"
    }
   ],
   "source": [
    "scored_test = pd.DataFrame(index=X_pred_test.index)\n",
    "scored_test['RE'] = np.mean(np.abs(X_pred_test - flatten(X_test)), axis = 1)  # corrected error\n",
    "plt.figure()\n",
    "sns.distplot(scored_test['RE'],bins = 15, kde= True,color = 'blue')\n",
    "plt.title(\"Reconstruction loss Bearing 1 (Test set)\")\n",
    "# plt.savefig(\"plots/RE_test\")"
   ]
  },
  {
   "cell_type": "code",
   "execution_count": 20,
   "metadata": {
    "pycharm": {
     "name": "#%%\n"
    }
   },
   "outputs": [],
   "source": [
    "scored_test['Threshold'] = 1.0\n",
    "scored_test['Anomaly'] = scored_test['RE'] > scored_test['Threshold']  # corrected error"
   ]
  },
  {
   "cell_type": "code",
   "execution_count": 21,
   "outputs": [
    {
     "data": {
      "text/plain": "<AxesSubplot:title={'center':'Failure of Bearing 1 (Set-2)'}>"
     },
     "execution_count": 21,
     "metadata": {},
     "output_type": "execute_result"
    },
    {
     "data": {
      "text/plain": "<Figure size 1152x576 with 1 Axes>",
      "image/png": "[encoded data removed]"
     },
     "metadata": {
      "needs_background": "light"
     },
     "output_type": "display_data"
    }
   ],
   "source": [
    "scored_test.plot(figsize = (16,8), color = ['blue','red'],title=\"Failure of Bearing 1 (Set-2)\")"
   ],
   "metadata": {
    "collapsed": false,
    "pycharm": {
     "name": "#%%\n"
    }
   }
  },
  {
   "cell_type": "markdown",
   "source": [
    "# MY EVALUATION"
   ],
   "metadata": {
    "collapsed": false,
    "pycharm": {
     "name": "#%% md\n"
    }
   }
  },
  {
   "cell_type": "code",
   "execution_count": 22,
   "outputs": [],
   "source": [
    "\n",
    "\n",
    "lstm_autoencoder.save(f'../model/baseline/{MODEL_PATH}.h5')\n",
    "scored_test['RE'].to_csv('baseline_anomaly_scores.csv', index=False)"
   ],
   "metadata": {
    "collapsed": false,
    "pycharm": {
     "name": "#%%\n"
    }
   }
  }
 ],
 "metadata": {
  "kernelspec": {
   "display_name": "Python 3 (ipykernel)",
   "language": "python",
   "name": "python3"
  },
  "language_info": {
   "codemirror_mode": {
    "name": "ipython",
    "version": 3
   },
   "file_extension": ".py",
   "mimetype": "text/x-python",
   "name": "python",
   "nbconvert_exporter": "python",
   "pygments_lexer": "ipython3",
   "version": "3.9.10"
  }
 },
 "nbformat": 4,
 "nbformat_minor": 2
}
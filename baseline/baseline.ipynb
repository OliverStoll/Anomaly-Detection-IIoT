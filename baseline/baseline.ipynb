{
 "cells": [
  {
   "cell_type": "code",
   "execution_count": 16,
   "metadata": {
    "pycharm": {
     "name": "#%%\n"
    }
   },
   "outputs": [],
   "source": [
    "import os\n",
    "import pandas as pd\n",
    "import numpy as np\n",
    "from sklearn import preprocessing\n",
    "import seaborn as sns\n",
    "sns.set(color_codes=True)\n",
    "import matplotlib.pyplot as plt\n",
    "%matplotlib inline\n",
    "from numpy.random import seed\n",
    "# from tensorflow import set_random_seed\n",
    "from tensorflow.keras import optimizers\n",
    "from keras import Sequential\n",
    "from keras.models import Model\n",
    "# from keras.utils import plot_model\n",
    "from keras.layers import Dense, LSTM, RepeatVector, TimeDistributed\n",
    "from keras.callbacks import ModelCheckpoint, TensorBoard\n",
    "from sklearn.metrics import confusion_matrix, precision_recall_curve\n",
    "from sklearn.metrics import recall_score, classification_report, auc, roc_curve\n",
    "from sklearn.metrics import precision_recall_fscore_support, f1_score"
   ]
  },
  {
   "cell_type": "code",
   "execution_count": 17,
   "metadata": {
    "pycharm": {
     "name": "#%%\n"
    }
   },
   "outputs": [],
   "source": [
    "# first = 'data/1st_test'\n",
    "# second = 'data/2nd_test'\n",
    "# third = 'data/4th_test/txt'"
   ]
  },
  {
   "cell_type": "markdown",
   "source": [
    "# SET HYPERPARAMETERS AND EXTERNAL VALUES"
   ],
   "metadata": {
    "collapsed": false,
    "pycharm": {
     "name": "#%% md\n"
    }
   }
  },
  {
   "cell_type": "code",
   "execution_count": 18,
   "outputs": [],
   "source": [
    "DATASET_PATH = '../archive/2nd_test'\n",
    "MODEL_PATH = 'bearing/experiment-2/bearing-1'\n",
    "DATASET_COLUMN = 0\n",
    "TRAIN_SPLIT = 0.7\n",
    "VAL_SPLIT = 0.0\n",
    "\n",
    "EPOCHS = 30\n",
    "BATCH_SIZE = 64\n",
    "LEARNING_RATE = 0.001\n"
   ],
   "metadata": {
    "collapsed": false,
    "pycharm": {
     "name": "#%%\n"
    }
   }
  },
  {
   "cell_type": "code",
   "execution_count": 19,
   "metadata": {
    "pycharm": {
     "name": "#%%\n"
    }
   },
   "outputs": [],
   "source": [
    "def readData(dataDir, setName,set1=False):\n",
    "    files = os.listdir(dataDir)\n",
    "    print(\"Number of files:\",len(files))\n",
    "    \n",
    "    bearing1= list()\n",
    "    bearing2= list()\n",
    "    bearing3= list()\n",
    "    bearing4= list()\n",
    "\n",
    "    bearing_list = {setName+\"_bearing-1\" : bearing1,setName+\"_bearing-2\" : bearing2,setName+\"_bearing-3\" : bearing3,setName+\"_bearing-4\" : bearing4}\n",
    "    \n",
    "    cols=['bearing-1','bearing-2','bearing-3','bearing-4']\n",
    "    \n",
    "    for filename in files:\n",
    "\n",
    "        dataset=pd.read_csv(os.path.join(dataDir, filename), sep='\\t', header=None, names=cols)\n",
    "\n",
    "        avg_df = dataset.groupby(dataset.index // 5).mean()\n",
    "        \n",
    "        for bearing in cols:\n",
    "            dict_key = setName+\"_\"+bearing\n",
    "            if dict_key in bearing_list:\n",
    "                b = pd.DataFrame(avg_df[bearing]).T\n",
    "                bearing_list[setName+\"_\"+bearing].append(b)\n",
    "    \n",
    "    return bearing_list"
   ]
  },
  {
   "cell_type": "code",
   "execution_count": 20,
   "metadata": {
    "pycharm": {
     "name": "#%%\n"
    }
   },
   "outputs": [
    {
     "name": "stdout",
     "output_type": "stream",
     "text": [
      "Number of files: 984\n",
      "S2_bearing-1 984\n",
      "S2_bearing-2 984\n",
      "S2_bearing-3 984\n",
      "S2_bearing-4 984\n"
     ]
    }
   ],
   "source": [
    "data = readData(DATASET_PATH, \"S2\")\n",
    "for bearing in data:  # edited error\n",
    "    print(bearing,len(data[bearing]))"
   ]
  },
  {
   "cell_type": "markdown",
   "source": [
    "# split data into training and test"
   ],
   "metadata": {
    "collapsed": false,
    "pycharm": {
     "name": "#%% md\n"
    }
   }
  },
  {
   "cell_type": "code",
   "execution_count": 21,
   "metadata": {
    "pycharm": {
     "name": "#%%\n"
    }
   },
   "outputs": [
    {
     "name": "stdout",
     "output_type": "stream",
     "text": [
      "688\n",
      "(688, 4096) (296, 4096)\n"
     ]
    }
   ],
   "source": [
    "bearing1 = pd.concat(data[f\"S2_bearing-{DATASET_COLUMN + 1}\"])\n",
    "split_len = int(len(bearing1) * TRAIN_SPLIT)\n",
    "print(split_len)\n",
    "train = bearing1.iloc[0:split_len]\n",
    "test = bearing1.iloc[split_len:]\n",
    "train.reset_index(drop= True, inplace=True)\n",
    "test.reset_index(drop= True, inplace=True)\n",
    "print(train.shape, test.shape)"
   ]
  },
  {
   "cell_type": "code",
   "execution_count": 22,
   "metadata": {
    "pycharm": {
     "name": "#%%\n"
    }
   },
   "outputs": [
    {
     "name": "stdout",
     "output_type": "stream",
     "text": [
      "(688, 4096) (296, 4096)\n"
     ]
    }
   ],
   "source": [
    "# Standardarize train and test set\n",
    "scaler = preprocessing.StandardScaler()\n",
    "train_scaled = pd.DataFrame(scaler.fit_transform(train))\n",
    "test_scaled = pd.DataFrame(scaler.transform(test))\n",
    "print(train_scaled.shape, test_scaled.shape)"
   ]
  },
  {
   "cell_type": "markdown",
   "source": [
    "# prepare data for LSTM"
   ],
   "metadata": {
    "collapsed": false,
    "pycharm": {
     "name": "#%% md\n"
    }
   }
  },
  {
   "cell_type": "code",
   "execution_count": 23,
   "metadata": {
    "pycharm": {
     "name": "#%%\n"
    }
   },
   "outputs": [],
   "source": [
    "def temporalize(X, lookback):\n",
    "    output_X = []\n",
    "    for i in range(len(X)-lookback-1):\n",
    "        t = []\n",
    "        for j in range(1,lookback+1):\n",
    "            # Gather past records upto the lookback period\n",
    "            t.append(X[[(i+j+1)], :])\n",
    "        output_X.append(t)\n",
    "    return output_X\n",
    "\n",
    "\n",
    "def flatten(X):\n",
    "    '''\n",
    "    Flatten a 3D array.\n",
    "    \n",
    "    Input\n",
    "    X            A 3D array for lstm, where the array is sample x timesteps x features.\n",
    "    \n",
    "    Output\n",
    "    flattened_X  A 2D array, sample x features.\n",
    "    '''\n",
    "    flattened_X = np.empty((X.shape[0], X.shape[2]))  # sample x features array.\n",
    "    for i in range(X.shape[0]):\n",
    "        flattened_X[i] = X[i, (X.shape[1]-1), :]\n",
    "    return(flattened_X)\n",
    "\n",
    "def scale(X, scaler):\n",
    "    '''\n",
    "    Scale 3D array.\n",
    "\n",
    "    Inputs\n",
    "    X            A 3D array for lstm, where the array is sample x timesteps x features.\n",
    "    scaler       A scaler object, e.g., sklearn.preprocessing.StandardScaler, sklearn.preprocessing.normalize\n",
    "    \n",
    "    Output\n",
    "    X            Scaled 3D array.\n",
    "    '''\n",
    "    for i in range(X.shape[0]):\n",
    "        X[i, :, :] = scaler.transform(X[i, :, :])\n",
    "        \n",
    "    return X"
   ]
  },
  {
   "cell_type": "code",
   "execution_count": 24,
   "metadata": {
    "pycharm": {
     "name": "#%%\n"
    }
   },
   "outputs": [],
   "source": [
    "n_features = train_scaled.shape[1] \n",
    "lookback = 20  \n",
    "\n",
    "# Temporalize the data\n",
    "X = temporalize(X = train_scaled.values, lookback = lookback)\n",
    "X_t = temporalize(X = test_scaled.values, lookback = lookback)"
   ]
  },
  {
   "cell_type": "code",
   "execution_count": 25,
   "metadata": {
    "pycharm": {
     "name": "#%%\n"
    }
   },
   "outputs": [
    {
     "name": "stdout",
     "output_type": "stream",
     "text": [
      "(667, 20, 4096) (275, 20, 4096)\n"
     ]
    }
   ],
   "source": [
    "X_train_lstm = np.array(X)\n",
    "X_test_lstm = np.array(X_t)\n",
    "X_train = X_train_lstm.reshape(X_train_lstm.shape[0], lookback, n_features)\n",
    "X_test = X_test_lstm.reshape(X_test_lstm.shape[0], lookback, n_features)\n",
    "print(X_train.shape, X_test.shape)"
   ]
  },
  {
   "cell_type": "markdown",
   "source": [
    "# LSTM AE Anomaly Detector"
   ],
   "metadata": {
    "collapsed": false,
    "pycharm": {
     "name": "#%% md\n"
    }
   }
  },
  {
   "cell_type": "code",
   "execution_count": 26,
   "metadata": {
    "pycharm": {
     "name": "#%%\n"
    }
   },
   "outputs": [],
   "source": [
    "timesteps =  X_train.shape[1] # equal to the lookback=20\n",
    "n_features =  X_train.shape[2] # 4096"
   ]
  },
  {
   "cell_type": "code",
   "execution_count": 27,
   "metadata": {
    "pycharm": {
     "name": "#%%\n"
    }
   },
   "outputs": [
    {
     "name": "stdout",
     "output_type": "stream",
     "text": [
      "WARNING:tensorflow:Layer lstm_4 will not use cuDNN kernels since it doesn't meet the criteria. It will use a generic GPU kernel as fallback when running on GPU.\n",
      "WARNING:tensorflow:Layer lstm_5 will not use cuDNN kernels since it doesn't meet the criteria. It will use a generic GPU kernel as fallback when running on GPU.\n",
      "WARNING:tensorflow:Layer lstm_6 will not use cuDNN kernels since it doesn't meet the criteria. It will use a generic GPU kernel as fallback when running on GPU.\n",
      "Model: \"sequential_1\"\n",
      "_________________________________________________________________\n",
      " Layer (type)                Output Shape              Param #   \n",
      "=================================================================\n",
      " lstm_4 (LSTM)               (None, 20, 600)           11272800  \n",
      "                                                                 \n",
      " lstm_5 (LSTM)               (None, 250)               851000    \n",
      "                                                                 \n",
      " repeat_vector_1 (RepeatVect  (None, 20, 250)          0         \n",
      " or)                                                             \n",
      "                                                                 \n",
      " lstm_6 (LSTM)               (None, 20, 250)           501000    \n",
      "                                                                 \n",
      " lstm_7 (LSTM)               (None, 20, 600)           2042400   \n",
      "                                                                 \n",
      " time_distributed_1 (TimeDis  (None, 20, 4096)         2461696   \n",
      " tributed)                                                       \n",
      "                                                                 \n",
      "=================================================================\n",
      "Total params: 17,128,896\n",
      "Trainable params: 17,128,896\n",
      "Non-trainable params: 0\n",
      "_________________________________________________________________\n"
     ]
    }
   ],
   "source": [
    "lstm_autoencoder = Sequential()\n",
    "# Encoder\n",
    "lstm_autoencoder.add(LSTM(600, activation='relu', input_shape=(timesteps, n_features), return_sequences=True))\n",
    "lstm_autoencoder.add(LSTM(250, activation='relu', return_sequences=False))\n",
    "lstm_autoencoder.add(RepeatVector(timesteps))\n",
    "# Decoder\n",
    "lstm_autoencoder.add(LSTM(250, activation='relu', return_sequences=True))\n",
    "lstm_autoencoder.add(LSTM(600, activation='tanh', return_sequences=True))\n",
    "lstm_autoencoder.add(TimeDistributed(Dense(n_features)))\n",
    "\n",
    "lstm_autoencoder.summary()"
   ]
  },
  {
   "cell_type": "code",
   "execution_count": 28,
   "metadata": {
    "pycharm": {
     "name": "#%%\n"
    }
   },
   "outputs": [
    {
     "name": "stdout",
     "output_type": "stream",
     "text": [
      "Epoch 1/30\n",
      "11/11 - 4s - loss: 0.9984 - 4s/epoch - 328ms/step\n",
      "Epoch 2/30\n",
      "11/11 - 1s - loss: 0.9885 - 1s/epoch - 111ms/step\n",
      "Epoch 3/30\n",
      "11/11 - 1s - loss: 0.9824 - 1s/epoch - 103ms/step\n",
      "Epoch 4/30\n",
      "11/11 - 1s - loss: 0.9791 - 1s/epoch - 109ms/step\n",
      "Epoch 5/30\n",
      "11/11 - 1s - loss: 0.9773 - 1s/epoch - 102ms/step\n",
      "Epoch 6/30\n",
      "11/11 - 1s - loss: 0.9796 - 1s/epoch - 105ms/step\n",
      "Epoch 7/30\n",
      "11/11 - 1s - loss: 0.9887 - 1s/epoch - 111ms/step\n",
      "Epoch 8/30\n",
      "11/11 - 1s - loss: 0.9997 - 1s/epoch - 109ms/step\n",
      "Epoch 9/30\n",
      "11/11 - 1s - loss: 0.9994 - 1s/epoch - 110ms/step\n",
      "Epoch 10/30\n",
      "11/11 - 1s - loss: 0.9999 - 1s/epoch - 108ms/step\n",
      "Epoch 11/30\n",
      "11/11 - 1s - loss: 0.9996 - 1s/epoch - 114ms/step\n",
      "Epoch 12/30\n",
      "11/11 - 1s - loss: 0.9997 - 1s/epoch - 102ms/step\n",
      "Epoch 13/30\n",
      "11/11 - 1s - loss: 0.9993 - 1s/epoch - 107ms/step\n",
      "Epoch 14/30\n",
      "11/11 - 1s - loss: 0.9991 - 1s/epoch - 109ms/step\n",
      "Epoch 15/30\n",
      "11/11 - 1s - loss: 0.9989 - 1s/epoch - 108ms/step\n",
      "Epoch 16/30\n",
      "11/11 - 1s - loss: 1.0004 - 1s/epoch - 106ms/step\n",
      "Epoch 17/30\n",
      "11/11 - 1s - loss: 1.0014 - 1s/epoch - 105ms/step\n",
      "Epoch 18/30\n",
      "11/11 - 1s - loss: 1.0005 - 1s/epoch - 108ms/step\n",
      "Epoch 19/30\n",
      "11/11 - 1s - loss: 1.0014 - 1s/epoch - 115ms/step\n",
      "Epoch 20/30\n",
      "11/11 - 1s - loss: 1.0008 - 1s/epoch - 102ms/step\n",
      "Epoch 21/30\n",
      "11/11 - 1s - loss: 1.0004 - 1s/epoch - 103ms/step\n",
      "Epoch 22/30\n",
      "11/11 - 1s - loss: 1.0009 - 1s/epoch - 99ms/step\n",
      "Epoch 23/30\n",
      "11/11 - 1s - loss: 0.9992 - 1s/epoch - 95ms/step\n",
      "Epoch 24/30\n",
      "11/11 - 1s - loss: 0.9993 - 1s/epoch - 107ms/step\n",
      "Epoch 25/30\n",
      "11/11 - 1s - loss: 1.0007 - 1s/epoch - 98ms/step\n",
      "Epoch 26/30\n",
      "11/11 - 1s - loss: 1.0005 - 1s/epoch - 106ms/step\n",
      "Epoch 27/30\n",
      "11/11 - 1s - loss: 1.0005 - 1s/epoch - 105ms/step\n",
      "Epoch 28/30\n",
      "11/11 - 1s - loss: 1.0003 - 1s/epoch - 103ms/step\n",
      "Epoch 29/30\n",
      "11/11 - 1s - loss: 0.9999 - 1s/epoch - 104ms/step\n",
      "Epoch 30/30\n",
      "11/11 - 1s - loss: 0.9993 - 1s/epoch - 105ms/step\n"
     ]
    }
   ],
   "source": [
    "adam = optimizers.Adam(LEARNING_RATE)\n",
    "lstm_autoencoder.compile(loss='mse', optimizer=adam)\n",
    "\n",
    "cp = ModelCheckpoint(filepath=\"lstm_autoencoder_classifier.h5\",\n",
    "                               save_best_only=True,\n",
    "                               verbose=0)\n",
    "\n",
    "tb = TensorBoard(log_dir='./logs',\n",
    "                histogram_freq=0,\n",
    "                write_graph=True,\n",
    "                write_images=True)\n",
    "\n",
    "lstm_autoencoder_history = lstm_autoencoder.fit(X_train, X_train, \n",
    "                                                epochs=EPOCHS,\n",
    "                                                batch_size=BATCH_SIZE,\n",
    "                                                validation_split=VAL_SPLIT,\n",
    "                                                verbose=2).history"
   ]
  },
  {
   "cell_type": "code",
   "execution_count": 15,
   "metadata": {
    "pycharm": {
     "name": "#%%\n"
    }
   },
   "outputs": [
    {
     "data": {
      "text/plain": "<Figure size 432x288 with 1 Axes>",
      "image/png": "[encoded data removed]"
     },
     "metadata": {
      "needs_background": "light"
     },
     "output_type": "display_data"
    }
   ],
   "source": [
    "plt.plot(lstm_autoencoder_history['loss'], linewidth=2, label='Train')\n",
    "# plt.plot(lstm_autoencoder_history['val_loss'], linewidth=2, label='Valid')\n",
    "plt.legend(loc='upper right')\n",
    "plt.title('Model loss')\n",
    "plt.ylabel('Loss')\n",
    "plt.xlabel('Epoch')\n",
    "plt.show()"
   ]
  },
  {
   "cell_type": "code",
   "execution_count": 29,
   "metadata": {
    "pycharm": {
     "name": "#%%\n"
    }
   },
   "outputs": [
    {
     "name": "stdout",
     "output_type": "stream",
     "text": [
      "21/21 [==============================] - 1s 24ms/step\n"
     ]
    }
   ],
   "source": [
    "X_pred_train = lstm_autoencoder.predict(np.array(X_train))\n",
    "X_pred_train = pd.DataFrame(flatten(X_pred_train))"
   ]
  },
  {
   "cell_type": "code",
   "execution_count": 31,
   "metadata": {
    "pycharm": {
     "name": "#%%\n"
    }
   },
   "outputs": [
    {
     "name": "stderr",
     "output_type": "stream",
     "text": [
      "C:\\DRIVE\\SOFTWARE\\_Archiv\\_global-venv-pc1\\lib\\site-packages\\seaborn\\distributions.py:2619: FutureWarning: `distplot` is a deprecated function and will be removed in a future version. Please adapt your code to use either `displot` (a figure-level function with similar flexibility) or `histplot` (an axes-level function for histograms).\n",
      "  warnings.warn(msg, FutureWarning)\n"
     ]
    },
    {
     "data": {
      "text/plain": "Text(0.5, 1.0, 'Training Reconstruction Error')"
     },
     "execution_count": 30,
     "metadata": {},
     "output_type": "execute_result"
    },
    {
     "data": {
      "text/plain": "<Figure size 432x288 with 1 Axes>",
      "image/png": "[encoded data removed]"
     },
     "metadata": {
      "needs_background": "light"
     },
     "output_type": "display_data"
    },
    {
     "name": "stderr",
     "output_type": "stream",
     "text": [
      "C:\\DRIVE\\SOFTWARE\\_Archiv\\_global-venv-pc1\\lib\\site-packages\\seaborn\\distributions.py:2619: FutureWarning: `distplot` is a deprecated function and will be removed in a future version. Please adapt your code to use either `displot` (a figure-level function with similar flexibility) or `histplot` (an axes-level function for histograms).\n",
      "  warnings.warn(msg, FutureWarning)\n"
     ]
    },
    {
     "data": {
      "text/plain": "Text(0.5, 1.0, 'Training Reconstruction Error')"
     },
     "execution_count": 31,
     "metadata": {},
     "output_type": "execute_result"
    },
    {
     "data": {
      "text/plain": "<Figure size 432x288 with 1 Axes>",
      "image/png": "[encoded data removed]"
     },
     "metadata": {
      "needs_background": "light"
     },
     "output_type": "display_data"
    }
   ],
   "source": [
    "scored = pd.DataFrame(index=X_pred_train.index)\n",
    "scored['RE'] = np.mean(np.abs(X_pred_train - flatten(X_train)), axis = 1)\n",
    "plt.figure()\n",
    "sns.distplot(scored['RE'],\n",
    "             bins = 15, \n",
    "             kde= True,\n",
    "            color = 'blue')\n",
    "plt.title(\"Training Reconstruction Error\")\n",
    "# plt.savefig(\"plots/RE_medium\")"
   ]
  },
  {
   "cell_type": "code",
   "execution_count": 32,
   "metadata": {
    "pycharm": {
     "name": "#%%\n"
    }
   },
   "outputs": [
    {
     "data": {
      "text/plain": "               RE\ncount  667.000000\nmean     0.808710\nstd      0.021377\nmin      0.756733\n25%      0.793196\n50%      0.807376\n75%      0.822114\nmax      0.882728",
      "text/html": "<div>\n<style scoped>\n    .dataframe tbody tr th:only-of-type {\n        vertical-align: middle;\n    }\n\n    .dataframe tbody tr th {\n        vertical-align: top;\n    }\n\n    .dataframe thead th {\n        text-align: right;\n    }\n</style>\n<table border=\"1\" class=\"dataframe\">\n  <thead>\n    <tr style=\"text-align: right;\">\n      <th></th>\n      <th>RE</th>\n    </tr>\n  </thead>\n  <tbody>\n    <tr>\n      <th>count</th>\n      <td>667.000000</td>\n    </tr>\n    <tr>\n      <th>mean</th>\n      <td>0.808710</td>\n    </tr>\n    <tr>\n      <th>std</th>\n      <td>0.021377</td>\n    </tr>\n    <tr>\n      <th>min</th>\n      <td>0.756733</td>\n    </tr>\n    <tr>\n      <th>25%</th>\n      <td>0.793196</td>\n    </tr>\n    <tr>\n      <th>50%</th>\n      <td>0.807376</td>\n    </tr>\n    <tr>\n      <th>75%</th>\n      <td>0.822114</td>\n    </tr>\n    <tr>\n      <th>max</th>\n      <td>0.882728</td>\n    </tr>\n  </tbody>\n</table>\n</div>"
     },
     "execution_count": 32,
     "metadata": {},
     "output_type": "execute_result"
    }
   ],
   "source": [
    "scored.describe()"
   ]
  },
  {
   "cell_type": "code",
   "execution_count": 33,
   "metadata": {
    "pycharm": {
     "name": "#%%\n"
    }
   },
   "outputs": [
    {
     "name": "stdout",
     "output_type": "stream",
     "text": [
      "9/9 [==============================] - 0s 45ms/step\n"
     ]
    }
   ],
   "source": [
    "X_pred_test = lstm_autoencoder.predict(np.array(X_test))\n",
    "X_pred_test = pd.DataFrame(flatten(X_pred_test))"
   ]
  },
  {
   "cell_type": "code",
   "execution_count": 34,
   "metadata": {
    "pycharm": {
     "name": "#%%\n"
    }
   },
   "outputs": [
    {
     "name": "stderr",
     "output_type": "stream",
     "text": [
      "C:\\DRIVE\\SOFTWARE\\_Archiv\\_global-venv-pc1\\lib\\site-packages\\seaborn\\distributions.py:2619: FutureWarning: `distplot` is a deprecated function and will be removed in a future version. Please adapt your code to use either `displot` (a figure-level function with similar flexibility) or `histplot` (an axes-level function for histograms).\n",
      "  warnings.warn(msg, FutureWarning)\n"
     ]
    },
    {
     "data": {
      "text/plain": "Text(0.5, 1.0, 'Reconstruction loss Bearing 1 (Test set)')"
     },
     "execution_count": 34,
     "metadata": {},
     "output_type": "execute_result"
    },
    {
     "data": {
      "text/plain": "<Figure size 432x288 with 1 Axes>",
      "image/png": "[encoded data removed]"
     },
     "metadata": {
      "needs_background": "light"
     },
     "output_type": "display_data"
    }
   ],
   "source": [
    "scored_test = pd.DataFrame(index=X_pred_test.index)\n",
    "scored_test['RE'] = np.mean(np.abs(X_pred_test - flatten(X_test)), axis = 1)  # corrected error\n",
    "plt.figure()\n",
    "sns.distplot(scored_test['RE'],bins = 15, kde= True,color = 'blue')\n",
    "plt.title(\"Reconstruction loss Bearing 1 (Test set)\")\n",
    "# plt.savefig(\"plots/RE_test\")"
   ]
  },
  {
   "cell_type": "code",
   "execution_count": 35,
   "metadata": {
    "pycharm": {
     "name": "#%%\n"
    }
   },
   "outputs": [],
   "source": [
    "scored_test['Threshold'] = 1.0\n",
    "scored_test['Anomaly'] = scored_test['RE'] > scored_test['Threshold']  # corrected error"
   ]
  },
  {
   "cell_type": "code",
   "execution_count": 36,
   "outputs": [
    {
     "data": {
      "text/plain": "<AxesSubplot:title={'center':'Failure of Bearing 1 (Set-2)'}>"
     },
     "execution_count": 36,
     "metadata": {},
     "output_type": "execute_result"
    },
    {
     "data": {
      "text/plain": "<Figure size 1152x576 with 1 Axes>",
      "image/png": "[encoded data removed]"
     },
     "metadata": {
      "needs_background": "light"
     },
     "output_type": "display_data"
    }
   ],
   "source": [
    "scored_test.plot(figsize = (16,8), color = ['blue','red'],title=\"Failure of Bearing 1 (Set-2)\")"
   ],
   "metadata": {
    "collapsed": false,
    "pycharm": {
     "name": "#%%\n"
    }
   }
  },
  {
   "cell_type": "markdown",
   "source": [
    "# MY EVALUATION"
   ],
   "metadata": {
    "collapsed": false,
    "pycharm": {
     "name": "#%% md\n"
    }
   }
  },
  {
   "cell_type": "code",
   "execution_count": null,
   "outputs": [],
   "source": [
    "\n",
    "\n",
    "lstm_autoencoder.save(f'../model/{MODEL_PATH}/baseline.h5')\n",
    "scored_test['RE'].to_csv('baseline_anomaly_scores.csv', index=False)"
   ],
   "metadata": {
    "collapsed": false,
    "pycharm": {
     "name": "#%%\n"
    }
   }
  }
 ],
 "metadata": {
  "kernelspec": {
   "display_name": "Python 3 (ipykernel)",
   "language": "python",
   "name": "python3"
  },
  "language_info": {
   "codemirror_mode": {
    "name": "ipython",
    "version": 3
   },
   "file_extension": ".py",
   "mimetype": "text/x-python",
   "name": "python",
   "nbconvert_exporter": "python",
   "pygments_lexer": "ipython3",
   "version": "3.9.10"
  }
 },
 "nbformat": 4,
 "nbformat_minor": 2
}